{
 "cells": [
  {
   "cell_type": "markdown",
   "id": "bored-desire",
   "metadata": {},
   "source": [
    "# <center>CSE848: Evolutionary Computation</center><center>Michigan State University</center><center>Assignment HA2: Home Assignment 2</center>"
   ]
  },
  {
   "cell_type": "markdown",
   "id": "standard-ideal",
   "metadata": {},
   "source": [
    "### <center>*Jaturong Kongmanee*</center>"
   ]
  },
  {
   "cell_type": "markdown",
   "id": "aboriginal-wedding",
   "metadata": {},
   "source": [
    "### 1.  There is much current research in producing autonomous vehicles that can be used on real roads.  For each of the following capabilities that such a system should exhibit, state whether they are an optimization, modeling, or simulation problem. Explain your reasoning. "
   ]
  },
  {
   "cell_type": "markdown",
   "id": "ancient-performer",
   "metadata": {},
   "source": [
    "**(a)  Steering in the middle of the road.** \n",
    "\n",
    "- `Modeling` – In this scenario, we try to understand the problem by looking for what are the factors, e.g., speed, steering wheel angle, that affect the model's performance in steering. The model's input might be the visual and sensed data from cameras and sensors equipped with the car. The model's output might be the continuous or discrete values indicating whether the car is in the middle of the road."
   ]
  },
  {
   "cell_type": "markdown",
   "id": "supreme-amino",
   "metadata": {},
   "source": [
    "**(b)  Avoiding a child that runs into the road.** \n",
    "\n",
    "- `Simulation` - The system's model is being tested with the assumed inputs that contain various behaviors of having a child running into the road. The goal is to see how well the created model reacts to these situations, and avoids a child on the road, then explores the possible flaws that happened to improve the model further."
   ]
  },
  {
   "cell_type": "markdown",
   "id": "returning-variation",
   "metadata": {},
   "source": [
    "**(c)  Recognizing a traffic sign in a video feed as the vehicle drives along.** \n",
    "\n",
    "- `Simulation` – The system’s model is being tested with the new examples of never seen traffic sign input in a video feed to see how the created model accurately recognizes a traffic sign."
   ]
  },
  {
   "cell_type": "markdown",
   "id": "chubby-somewhere",
   "metadata": {},
   "source": [
    "**(d)  Planning shortest, or quickest, route between two places.**\n",
    "\n",
    "- `Optimization` – In this situation, we have the model of measuring the distance between the two places, i.e., Euclidean distance. The desired output is specified that the route must have to be shortest between two places. Thus, the task is to find the possible best inputs."
   ]
  },
  {
   "cell_type": "markdown",
   "id": "applicable-missile",
   "metadata": {},
   "source": [
    "**(e)  Learning to recognize traffic signs.**\n",
    "\n",
    "- `Modeling` – This is an example of classification. The system’s model is trained to assign each input vector of traffic signs to one of a finite number of discrete categories of known target vectors."
   ]
  },
  {
   "cell_type": "markdown",
   "id": "affected-bronze",
   "metadata": {},
   "source": [
    "### 2.  List the three kinds of learning that can be discerned in Machine Learning.  Give an example of each and explain, why it falls into that category of learning."
   ]
  },
  {
   "cell_type": "markdown",
   "id": "herbal-republican",
   "metadata": {},
   "source": [
    "**1. Supervised Learning** – the training data comprises examples of input vectors along with their corresponding target vectors.\n",
    "\n",
    "**An example of Supervised Learning:**\n",
    "- `Classification` – the problem consists of assigning each input vector to one of a finite number of discrete categories of target vectors.\n",
    "\n",
    "**Some variant of classification problem:**\n",
    "- `Sequence generation` – given an image, predict an image caption."
   ]
  },
  {
   "cell_type": "markdown",
   "id": "raised-teaching",
   "metadata": {},
   "source": [
    "**2. Unsupervised Learning** – the training data consists of input vectors without any corresponding target values.\n",
    "\n",
    "**An example of Unsupervised Learning:**\n",
    "    \n",
    "- `Clustering` – the problem consists of discovering groups of similar examples within the training data.\n"
   ]
  },
  {
   "cell_type": "markdown",
   "id": "forbidden-break",
   "metadata": {},
   "source": [
    "**3. Reinforcement Learning** – this kind of learning is concerned with the problem of finding suitable actions to take in a given situation/environment in order to maximize a reward. Note that the learning algorithm (agent) is not given examples of optimal outputs. \n",
    "\n",
    "**An example of Reinforcement Learning:**\n",
    "- `A mobile robot` – In this example, a mobile robot decides whether it should enter a new room to search for more trash to collect or start trying to find its way back to its battery recharging station. The agent’s decision is based on the current charge level of its battery and how quickly and easily it has been able to find the recharger in the past.\n",
    "\n",
    "This example shows the interaction between the agent and its environment, in which an agent finds suitable actions to take to maximize reward despite uncertainty about its environment. \n",
    "\n",
    "reference: http://incompleteideas.net/book/the-book.html\n"
   ]
  },
  {
   "cell_type": "markdown",
   "id": "ideal-corps",
   "metadata": {},
   "source": [
    "### 3.  The use of datasets in Machine Learning"
   ]
  },
  {
   "cell_type": "markdown",
   "id": "latest-cheat",
   "metadata": {},
   "source": [
    "**(a)  Explain the difference between the three uses of datasets common in Machine Learning:(i) Training, (ii) validation, and (iii) testing.**\n",
    "\n",
    "- `Training Set` - is used actually to train the algorithm.\n",
    "- `Validation Set` - is used to evaluate and keep track of how well the algorithm is doing as it learns (i.e., overfitting).\n",
    "- `Testing Set` - is used to finally test the model once it is ready for using.\n"
   ]
  },
  {
   "cell_type": "markdown",
   "id": "optimum-mainland",
   "metadata": {},
   "source": [
    "**(b)  Suppose your entire dataset has 10,000 samples. Roughly, how would you distribute your samplesamong them between training, validation and testing?**\n",
    "\n",
    "- The validation and testing sets should be big enough to represent the model's performance and be able to reflect expected data to get in the future. Also, the complexity of the model is another factor in defining the size of each data set. Thus, if the model is complex (i.e., deep neural network), I will provide more training data and split the data with 9,000 (90%) in the training set, 500 (5%) in the validation set, and 500 (5%) in the testing set. However, if the model is simple, I will split the data with 7,000 (70%) in the training set, 1,500 (15%) in the validation set, and 1,500 (15%) in the testing set."
   ]
  },
  {
   "cell_type": "markdown",
   "id": "irish-emperor",
   "metadata": {},
   "source": [
    "**(c)  Another method to use datasets in ML is by n-fold cross-validation. Make yourself familiar with this method and explain it briefly. What is the advantage of n-fold cross-validation compared to the previous method?**"
   ]
  },
  {
   "cell_type": "markdown",
   "id": "forced-ranking",
   "metadata": {},
   "source": [
    "- This method involves splitting the available training data into _N_ partitions (each partition is of equal size for the simplest case). For each run _i,_ train a model (or a set of models) on the remaining _N-1_ partitions and evaluate it on partition _i._ The performance scores of the _N_ scores obtained from _N_ runs are then averaged. N-fold cross-validation can be illustrated as the figure below, where _N = 4._ \n",
    "\n",
    "![title](img/n-fold_cross-validation.PNG)"
   ]
  },
  {
   "cell_type": "markdown",
   "id": "attended-might",
   "metadata": {},
   "source": [
    "- This method is useful when there is a limited number of training and testing data. It uses _(N-1)/N_ of the available data for training and uses all of the data to evaluate performance."
   ]
  },
  {
   "cell_type": "code",
   "execution_count": null,
   "id": "automated-grounds",
   "metadata": {},
   "outputs": [],
   "source": []
  }
 ],
 "metadata": {
  "kernelspec": {
   "display_name": "Python 3",
   "language": "python",
   "name": "python3"
  },
  "language_info": {
   "codemirror_mode": {
    "name": "ipython",
    "version": 3
   },
   "file_extension": ".py",
   "mimetype": "text/x-python",
   "name": "python",
   "nbconvert_exporter": "python",
   "pygments_lexer": "ipython3",
   "version": "3.8.6"
  }
 },
 "nbformat": 4,
 "nbformat_minor": 5
}
